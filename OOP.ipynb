{
  "nbformat": 4,
  "nbformat_minor": 0,
  "metadata": {
    "colab": {
      "provenance": []
    },
    "kernelspec": {
      "name": "python3",
      "display_name": "Python 3"
    },
    "language_info": {
      "name": "python"
    }
  },
  "cells": [
    {
      "cell_type": "markdown",
      "source": [
        "# 1.What is Object-Oriented Programming (OOP).\n",
        "---\n",
        "\n",
        "OOP is a programming paradigm based on the concept of \"objects,\" which can contain data, in the form of fields (often known\n",
        "as attributes or properties), and code, in the form of procedures (often known as methods). A central feature of OOP is that objects' own procedures can access and often modify the data fields of the object with which they are associated (objects have a notion of \"this\" or \"self\"). OOP focuses on grouping data and the functions that operate on that data together."
      ],
      "metadata": {
        "id": "G9HUx1G9Q9iY"
      }
    },
    {
      "cell_type": "markdown",
      "source": [
        "# 2.What is a class in OOP?\n",
        "---\n",
        "A class is a blueprint or a template for creating objects. It defines the attributes (data members) and methods (functions) that objects of that class will have. It's a logical construct and doesn't exist in memory until an object (instance) of the class is created."
      ],
      "metadata": {
        "id": "m_vRiDH7SaCW"
      }
    },
    {
      "cell_type": "markdown",
      "source": [
        "# 3.What is an object in OOP?\n",
        "---\n",
        "An object is an instance of a class. It's a real-world entity that has specific attributes and behaviors defined by its class. Multiple objects can be created from a single class, each with its own set of attribute values."
      ],
      "metadata": {
        "id": "r-7woY_5SmnN"
      }
    },
    {
      "cell_type": "markdown",
      "source": [
        "# 4.What is the difference between abstraction and encapsulation?\n",
        "---\n",
        "**Abstraction:** Focuses on hiding the complex implementation details and showing only the essential information to the user. It deals with what an object does rather than how it does it. Think of it as providing a simplified view.\n",
        "\n",
        "**Encapsulation:** Focuses on bundling the data (attributes) and the methods that operate on that data within a single unit (a class). It also involves controlling the access to the internal data of an object, often using access modifiers (like private, protected, public). Encapsulation is about data hiding and protection."
      ],
      "metadata": {
        "id": "luBXaaYZSrWz"
      }
    },
    {
      "cell_type": "markdown",
      "source": [
        "# 5.What are dunder methods in Python?\n",
        "---\n",
        "Dunder methods (short for \"double underscore\" methods), also known as magic methods, are special methods in Python that have double underscores at the beginning and end of their names (e.g., __init__, __str__, __len__). These methods are not typically called directly by the user but are invoked automatically by Python interpreters in response to certain operations or syntax. They allow you to define how your objects behave with built-in Python functions and operators.\n",
        "\n"
      ],
      "metadata": {
        "id": "QkEj5Gz_SyCV"
      }
    },
    {
      "cell_type": "markdown",
      "source": [
        "# 6.Explain the concept of inheritance in OOP.\n",
        "---\n",
        "Inheritance is a mechanism in OOP where a new class (derived class or subclass) inherits properties (attributes and methods) from an existing class (base class or superclass). This promotes code reusability, as the derived class can use the functionalities of the base class and can also extend or modify them to suit its specific needs. It establishes an \"is-a\" relationship between the classes."
      ],
      "metadata": {
        "id": "zuFUSUC2TDVB"
      }
    },
    {
      "cell_type": "markdown",
      "source": [
        "# 7.What is polymorphism in OOP?\n",
        "---\n",
        "Polymorphism (meaning \"many forms\") is the ability of different classes to respond to the same method call in their own specific ways. It allows you to write code that can work with objects of different classes without needing to know their specific type, as long as they share a common interface (e.g., through inheritance or duck typing)."
      ],
      "metadata": {
        "id": "ZAobizTTTO0L"
      }
    },
    {
      "cell_type": "markdown",
      "source": [
        "# 8.How is encapsulation achieved in Python?\n",
        "Encapsulation in Python is primarily achieved through naming conventions. While Python doesn't have strict access modifiers like private in some other languages, it uses:\n",
        "\n",
        "**Single leading underscore (_):** Indicates that an attribute or method is intended for internal use and should not be accessed directly from outside the class. However, it's still accessible.\n",
        "\n",
        "**Double leading underscore (__):** Triggers name mangling. The interpreter renames the attribute to make it harder to access from outside the class (though it's still technically possible). This provides a stronger hint for privacy.\n",
        "Bundling attributes and methods within a class definition is the fundamental way encapsulation is organized."
      ],
      "metadata": {
        "id": "i5X4cwlSTZa6"
      }
    },
    {
      "cell_type": "markdown",
      "source": [
        "# 9.What is a constructor in Python?\n",
        "---\n",
        "A constructor is a special method in a class that is automatically called when an object of that class is created. In Python, the constructor method is named __init__(self, ...). It is used to initialize the object's attributes (data members) with initial values. The self parameter refers to the instance of the object being created."
      ],
      "metadata": {
        "id": "_f7dG3ZqTkMy"
      }
    },
    {
      "cell_type": "markdown",
      "source": [
        "# 10.What are class and static methods in Python?\n",
        "---\n",
        "**Class Method:** A method bound to the class and not the instance of the class. It receives the class itself as the first argument (conventionally named cls). Class methods can access and modify class-level attributes and can also be used as factory methods to create instances of the class. They are defined using the @classmethod decorator.\n",
        "\n",
        "**Static Method**: A method bound to the class but does not receive the class or instance as its first argument. It's essentially a regular function that belongs to the class's namespace. Static methods cannot access or modify class-level or instance-level attributes directly. They are defined using the @staticmethod decorator."
      ],
      "metadata": {
        "id": "4rp-HwP6TryL"
      }
    },
    {
      "cell_type": "markdown",
      "source": [
        "# 11. Method Overloading in Python: Doing the Same Thing, Maybe Differently?\n",
        "---\n",
        "Imagine you have a function that adds numbers. In some languages, you could have one add function that takes two numbers, and another add function that takes three numbers. That's method overloading. Python doesn't exactly do this the same way. Instead, we usually write one add function that's smart enough to handle different numbers of inputs, often by using default values or by collecting extra inputs. So,"
      ],
      "metadata": {
        "id": "UheeusgLT2XL"
      }
    },
    {
      "cell_type": "markdown",
      "source": [
        "# 12. Method Overriding in OOP: My Way or the Highway (Sometimes)!\n",
        "---\n",
        "Think of inheritance like a child learning from a parent. The child might learn to walk (a method) from the parent. But maybe the child wants to walk a bit differently – faster, with a different style. That's method overriding. The child class (subclass) provides its own way of doing something (a method) that it already learned from the parent class (superclass)."
      ],
      "metadata": {
        "id": "EgqV3KFmUFF6"
      }
    },
    {
      "cell_type": "markdown",
      "source": [
        "# 13.What is a property decorator in Python?\n",
        "---\n",
        "The @property decorator in Python is a built-in decorator that allows you to define a method in a class that can be accessed like an attribute. It's often used to implement controlled access to instance attributes (like getters and setters) without requiring the user to call explicit methods. This helps in encapsulating the data and adding logic when getting or setting an attribute."
      ],
      "metadata": {
        "id": "3EQZxkZ4UODH"
      }
    },
    {
      "cell_type": "markdown",
      "source": [
        "# 14.Why is polymorphism important in OOP?\n",
        "---\n",
        "Polymorphism is important because it:\n",
        "\n",
        "**Increases code reusability:** You can write more generic code that can work with objects of different classes.\n",
        "\n",
        "**Improves flexibility and extensibility:** New classes can be added without modifying existing code as long as they adhere to a common interface.\n",
        "\n",
        "**Simplifies code:** It allows you to treat objects of different types in a uniform way, making the code easier to understand and maintain.\n",
        "\n",
        "**Supports dynamic binding:** The specific method to be executed is determined at runtime based on the object's actual type."
      ],
      "metadata": {
        "id": "N1qP7zokUTeY"
      }
    },
    {
      "cell_type": "markdown",
      "source": [
        "# 15.What is an abstract class in Python?\n",
        "---\n",
        "An abstract class is a class that cannot be instantiated directly. It serves as a blueprint for other classes.\n",
        "\n",
        "Abstract classes may contain abstract methods, which are methods declared without an implementation. Subclasses of an abstract class are required to provide concrete implementations for all the abstract methods inherited from the abstract class (unless the subclass is also an abstract class). In Python, abstract classes are created using the abc module (Abstract Base Classes) and the @abstractmethod decorator.\n",
        "\n"
      ],
      "metadata": {
        "id": "pV3SRe48UdLx"
      }
    },
    {
      "cell_type": "markdown",
      "source": [
        "# 16.What are the advantages of OOP?\n",
        "The advantages of OOP include:\n",
        "\n",
        "**Modularity:** Objects are self-contained units, making code easier to organize and manage.\n",
        "\n",
        "**Reusability:** Inheritance allows code to be reused across different classes.\n",
        "\n",
        "**Maintainability:** Changes within one object are less likely to affect other parts of the program.\n",
        "\n",
        "**Extensibility:** New features can be added by creating new classes without modifying existing ones significantly.\n",
        "\n",
        "**Data hiding (Encapsulation)**: Protects the integrity of data by restricting direct access.\n",
        "\n",
        "Flexibility (Polymorphism): **bold text** Allows objects of different classes to be treated uniformly.\n",
        "\n",
        "**Problem modeling:** OOP allows for a more natural and intuitive way to model real-world entities and their interactions."
      ],
      "metadata": {
        "id": "PW_r05xxUphC"
      }
    },
    {
      "cell_type": "markdown",
      "source": [
        "# 17.What is the difference between a class variable and an instance variable?\n",
        "---\n",
        "**Class Variable:** A variable that is defined within a class but outside of any instance methods (including __init__). It is shared by all instances (objects) of that class. If one instance modifies a class variable, the change is reflected in all other instances of the same class.\n",
        "\n",
        "**Instance Variable:** A variable that is defined within instance methods (typically in the __init__ method) and belongs to a specific instance (object) of the class. Each instance has its own copy of the instance variables, and changes to an instance variable in one object do not affect other objects.\n",
        "\n",
        "\n"
      ],
      "metadata": {
        "id": "GAjZp9R3U2u_"
      }
    },
    {
      "cell_type": "markdown",
      "source": [
        "# 18.What is multiple inheritance in Python?\n",
        "---\n",
        "Multiple inheritance is a feature in OOP where a class can inherit attributes and methods from more than one parent class. Python supports multiple inheritance. When a class inherits from multiple superclasses, it inherits their attributes and methods. However, multiple inheritance can sometimes lead to complexities like the \"diamond problem\" (where a class inherits from two classes that inherit from a common ancestor), which Python resolves using method resolution order (MRO)."
      ],
      "metadata": {
        "id": "ic_PtjcYVMjz"
      }
    },
    {
      "cell_type": "markdown",
      "source": [
        "# 19.Explain the purpose of __str__ and __repr__ methods in Python.\n",
        "---\n",
        "**__str__(self):** This method is used to provide a human-readable string representation of an object. It is called by the str() function and implicitly when you use the print() function on an object. The output of __str__ should be informative and easy for end-users to understand.\n",
        "\n",
        "**__repr__(self):** This method is used to provide an \"official\" string representation of an object. It should ideally return a string that, when evaluated using eval(), would recreate the object. If that's not possible, it should return a string that is informative about the object's type and state (e.g., <MyClass object at 0x...>). It is called by the repr() function and is also the default string representation displayed in the Python interpreter when you inspect an object. It's often useful for debugging and development."
      ],
      "metadata": {
        "id": "gbZ0UeJ_VoF7"
      }
    },
    {
      "cell_type": "markdown",
      "source": [
        "# 20.What is the significance of the super() function in Python?\n",
        "---\n",
        "The super() function in Python is used to call a method from a parent class. It's particularly useful in scenarios involving inheritance, especially multiple inheritance. super() helps in:\n",
        "\n",
        "**Calling the constructor of the parent class:** Ensuring that the initialization logic of the superclass is executed.\n",
        "\n",
        "**Accessing overridden methods:** Invoking the superclass's version of a method that has been overridden in the subclass.\n",
        "\n",
        "**Resolving the method resolution order (MRO) in multiple inheritance:** Ensuring that methods in the inheritance hierarchy are called in the correct order. Using super() with the MRO helps avoid issues like the \"diamond problem\" and ensures that each parent class's method is called exactly once."
      ],
      "metadata": {
        "id": "V23XIsMRVzgS"
      }
    },
    {
      "cell_type": "markdown",
      "source": [
        "# 21.What is the significance of the __del__ method in Python?\n",
        "---\n",
        "The __del__(self) method is a special method called when an object is about to be garbage collected (destroyed). It's often referred to as the \"destructor\" method. However, it's important to note that the exact timing of when __del__ is called is not guaranteed, as it depends on Python's garbage collection mechanism. __del__ is typically used for cleanup operations, such as releasing external resources (like file handles or network connections) held by the object. However, relying heavily on __del__ for resource management is generally discouraged due to its unpredictable timing. It's better to use context managers (with statement) for resource management."
      ],
      "metadata": {
        "id": "fKxqWInuWEHq"
      }
    },
    {
      "cell_type": "markdown",
      "source": [
        "# 22.What is the difference between @staticmethod and @classmethod in Python?\n",
        "---\n",
        "\n",
        "**@staticmethod:**\n",
        "\n",
        "* Does not receive the instance (self) or the class (cls) as its first argument.\n",
        "\n",
        "* It's essentially a regular function that is defined within the class's namespace because it's logically related to the class.\n",
        "\n",
        "* Cannot access or modify instance-specific or class-specific attributes directly.\n",
        "\n",
        "* Called on the class itself (e.g., MyClass.static_method()) or on an instance (e.g., my_instance.static_method()).\n",
        "\n",
        "**@classmethod:**\n",
        "\n",
        "* Receives the class itself (cls) as its first argument (by convention).\n",
        "\n",
        "* Can access and modify class-level attributes.\n",
        "\n",
        "* Can be used as factory methods to create instances of the class.\n",
        "\n",
        "* Called on the class itself (e.g., MyClass.class_method()) or on an instance (e.g., my_instance.class_method())."
      ],
      "metadata": {
        "id": "g8EmhLVEWLLO"
      }
    },
    {
      "cell_type": "markdown",
      "source": [
        "# 23.How does polymorphism work in Python with inheritance?\n",
        "---\n",
        "In Python, polymorphism works with inheritance through method overriding and the principle of \"duck typing.\"\n",
        "\n",
        "* **Method Overriding:** When a subclass inherits a method from a superclass, it can provide its own specific implementation of that method. When the method is called on an object of the subclass, the subclass's version is executed. This allows different classes in the inheritance hierarchy to respond to the same method call in their own way.\n",
        "\n",
        "* **Duck Typing:** Python also exhibits polymorphism through duck typing (\"If it walks like a duck and quacks like a duck, then it must be a duck\"). This means that the type or class of an object is less important than the methods and attributes it supports. If an object has the necessary methods and attributes, it can be used where an object of a particular type is expected, regardless of its actual class. This allows for more flexible and dynamic code."
      ],
      "metadata": {
        "id": "JJNeblh5W3IC"
      }
    },
    {
      "cell_type": "markdown",
      "source": [
        "# 24.What is method chaining in Python OOP?\n",
        "---\n",
        "Method chaining is a technique in OOP where multiple method calls are made on the same object in a sequential manner, typically on a single line of code. This is achieved by having each method in the sequence return the object itself (self) after performing its operation. This allows for a more fluent and readable way to perform a series of actions on an object."
      ],
      "metadata": {
        "id": "ufIov-3sXKGL"
      }
    },
    {
      "cell_type": "markdown",
      "source": [
        "# 25.What is the purpose of the __call__ method in Python?\n",
        "---\n",
        "The __call__(self, ...) method is a special method that allows an instance of a class to be called (invoked) like a regular function. When you define the __call__ method in a class, you can then call the object itself using parentheses, passing arguments as you would to a function. This can be useful for creating objects that have function-like behavior or for implementing callable objects with internal state."
      ],
      "metadata": {
        "id": "GwocvP01XTD9"
      }
    },
    {
      "cell_type": "markdown",
      "source": [
        "# Praction Section"
      ],
      "metadata": {
        "id": "hVurm_r-XZp1"
      }
    },
    {
      "cell_type": "code",
      "source": [
        "\"\"\"1.Create a parent class Animal with a method speak() that prints a generic message. Create a child class Dog\n",
        "that overrides the speak() method to print \"Bark!\".\"\"\"\n",
        "\n",
        "class Animal:\n",
        "    def speak(self):\n",
        "        print(\"Generic animal sound\")\n",
        "\n",
        "class Dog(Animal):\n",
        "    def speak(self):\n",
        "        print(\"Bark!\")\n",
        "\n",
        "animal = Animal()\n",
        "dog = Dog()\n",
        "\n",
        "animal.speak()\n",
        "dog.speak()\n",
        "\n",
        "print(\"\\n\" + \"=\"*30 + \"\\n\")"
      ],
      "metadata": {
        "colab": {
          "base_uri": "https://localhost:8080/"
        },
        "id": "11hiBruxXfeo",
        "outputId": "5869246b-9dbd-4101-a1d9-d530330803a9"
      },
      "execution_count": 1,
      "outputs": [
        {
          "output_type": "stream",
          "name": "stdout",
          "text": [
            "Generic animal sound\n",
            "Bark!\n",
            "\n",
            "==============================\n",
            "\n"
          ]
        }
      ]
    },
    {
      "cell_type": "code",
      "source": [
        "\"\"\"2. Write a program to create an abstract class Shape with a method area(). Derive classes Circle and Rectangle\n",
        "from it and implement the area() method in both.\"\"\"\n",
        "\n",
        "from abc import ABC, abstractmethod\n",
        "\n",
        "class Shape(ABC):\n",
        "    @abstractmethod\n",
        "    def area(self):\n",
        "        pass\n",
        "\n",
        "class Circle(Shape):\n",
        "    def __init__(self, radius):\n",
        "        self.radius = radius\n",
        "\n",
        "    def area(self):\n",
        "        import math\n",
        "        return math.pi * self.radius**2\n",
        "\n",
        "class Rectangle(Shape):\n",
        "    def __init__(self, length, width):\n",
        "        self.length = length\n",
        "        self.width = width\n",
        "\n",
        "    def area(self):\n",
        "        return self.length * self.width\n",
        "\n",
        "# Trying to create an instance of the abstract class will raise an error\n",
        "# shape = Shape()\n",
        "\n",
        "circle = Circle(5)\n",
        "rectangle = Rectangle(4, 6)\n",
        "\n",
        "print(f\"Area of the circle: {circle.area():.2f}\")\n",
        "print(f\"Area of the rectangle: {rectangle.area()}\")\n",
        "\n",
        "print(\"\\n\" + \"=\"*30 + \"\\n\")"
      ],
      "metadata": {
        "colab": {
          "base_uri": "https://localhost:8080/"
        },
        "id": "DFPgitnJYUWU",
        "outputId": "a7f30a23-83b5-468e-d5a9-c15049a15ee5"
      },
      "execution_count": 2,
      "outputs": [
        {
          "output_type": "stream",
          "name": "stdout",
          "text": [
            "Area of the circle: 78.54\n",
            "Area of the rectangle: 24\n",
            "\n",
            "==============================\n",
            "\n"
          ]
        }
      ]
    },
    {
      "cell_type": "code",
      "source": [
        "\"\"\" 3.Implement a multi-level inheritance scenario where a class Vehicle has an attribute type. Derive a class Car\n",
        "and further derive a class ElectricCar that adds a battery attribute.\"\"\"\n",
        "\n",
        "class Vehicle:\n",
        "    def __init__(self, type):\n",
        "        self.type = type\n",
        "\n",
        "class Car(Vehicle):\n",
        "    def __init__(self, type, model):\n",
        "        super().__init__(type)\n",
        "        self.model = model\n",
        "\n",
        "class ElectricCar(Car):\n",
        "    def __init__(self, type, model, battery):\n",
        "        super().__init__(type, model)\n",
        "        self.battery = battery\n",
        "\n",
        "vehicle = Vehicle(\"Generic\")\n",
        "car = Car(\"Land\", \"Sedan\")\n",
        "electric_car = ElectricCar(\"Land\", \"Electric\", \"Lithium-ion\")\n",
        "\n",
        "print(f\"Vehicle type: {vehicle.type}\")\n",
        "print(f\"Car type: {car.type}, model: {car.model}\")\n",
        "print(f\"Electric Car type: {electric_car.type}, model: {electric_car.model}, battery: {electric_car.battery}\")\n",
        "\n",
        "print(\"\\n\" + \"=\"*30 + \"\\n\")"
      ],
      "metadata": {
        "colab": {
          "base_uri": "https://localhost:8080/"
        },
        "id": "hfJ0YgtTZCbB",
        "outputId": "6cdcc455-51db-4bca-c1f7-c727bec26f04"
      },
      "execution_count": 3,
      "outputs": [
        {
          "output_type": "stream",
          "name": "stdout",
          "text": [
            "Vehicle type: Generic\n",
            "Car type: Land, model: Sedan\n",
            "Electric Car type: Land, model: Electric, battery: Lithium-ion\n",
            "\n",
            "==============================\n",
            "\n"
          ]
        }
      ]
    },
    {
      "cell_type": "code",
      "source": [
        "\"\"\" 4. Demonstrate polymorphism by creating a base class Bird with a method fly(). Create two derived classes\n",
        "Sparrow and Penguin that override the fly() method.\"\"\"\n",
        "\n",
        "class Bird:\n",
        "    def fly(self):\n",
        "        print(\"Generic bird flying\")\n",
        "\n",
        "class Sparrow(Bird):\n",
        "    def fly(self):\n",
        "        print(\"Sparrow is flying fast\")\n",
        "\n",
        "class Penguin(Bird):\n",
        "    def fly(self):\n",
        "        print(\"Penguin cannot fly, but it can swim\")\n",
        "\n",
        "def make_bird_fly(bird):\n",
        "    bird.fly()\n",
        "\n",
        "bird1 = Bird()\n",
        "sparrow = Sparrow()\n",
        "penguin = Penguin()\n",
        "\n",
        "make_bird_fly(bird1)\n",
        "make_bird_fly(sparrow)\n",
        "make_bird_fly(penguin)\n",
        "\n",
        "print(\"\\n\" + \"=\"*30 + \"\\n\")"
      ],
      "metadata": {
        "colab": {
          "base_uri": "https://localhost:8080/"
        },
        "id": "_0KsmHfFZVOu",
        "outputId": "685192e0-3f39-40db-fb39-6e9c795d38d2"
      },
      "execution_count": 5,
      "outputs": [
        {
          "output_type": "stream",
          "name": "stdout",
          "text": [
            "Generic bird flying\n",
            "Sparrow is flying fast\n",
            "Penguin cannot fly, but it can swim\n",
            "\n",
            "==============================\n",
            "\n"
          ]
        }
      ]
    },
    {
      "cell_type": "code",
      "source": [
        "\"\"\" 5. Write a program to demonstrate encapsulation by creating a class BankAccount with private attributes\n",
        "balance and methods to deposit, withdraw, and check balance.\"\"\"\n",
        "\n",
        "class BankAccount:\n",
        "    def __init__(self, balance):\n",
        "        self.__balance = balance  # Private attribute\n",
        "\n",
        "    def deposit(self, amount):\n",
        "        if amount > 0:\n",
        "            self.__balance += amount\n",
        "            print(f\"Deposited {amount}. New balance: {self.__balance}\")\n",
        "        else:\n",
        "            print(\"Invalid deposit amount.\")\n",
        "\n",
        "    def withdraw(self, amount):\n",
        "        if amount > 0 and amount <= self.__balance:\n",
        "            self.__balance -= amount\n",
        "            print(f\"Withdrew {amount}. New balance: {self.__balance}\")\n",
        "        elif amount <= 0:\n",
        "            print(\"Invalid withdrawal amount.\")\n",
        "        else:\n",
        "            print(\"Insufficient balance.\")\n",
        "\n",
        "    def check_balance(self):\n",
        "        print(f\"Current balance: {self.__balance}\")\n",
        "\n",
        "# Trying to access __balance directly will result in an AttributeError\n",
        "# account.__balance = 1000\n",
        "\n",
        "account = BankAccount(500)\n",
        "account.deposit(200)\n",
        "account.withdraw(100)\n",
        "account.check_balance()\n",
        "account.withdraw(1000)\n",
        "\n",
        "print(\"\\n\" + \"=\"*30 + \"\\n\")\n"
      ],
      "metadata": {
        "colab": {
          "base_uri": "https://localhost:8080/"
        },
        "id": "bN9mAVZ0Zgwl",
        "outputId": "0cba8af0-f279-458b-f485-191200bedfba"
      },
      "execution_count": 6,
      "outputs": [
        {
          "output_type": "stream",
          "name": "stdout",
          "text": [
            "Deposited 200. New balance: 700\n",
            "Withdrew 100. New balance: 600\n",
            "Current balance: 600\n",
            "Insufficient balance.\n",
            "\n",
            "==============================\n",
            "\n"
          ]
        }
      ]
    },
    {
      "cell_type": "code",
      "source": [
        "\"\"\" 6. Demonstrate runtime polymorphism using a method play() in a base class Instrument. Derive classes Guitar\n",
        "and Piano that implement their own version of play().\"\"\"\n",
        "\n",
        "class Instrument:\n",
        "    def play(self):\n",
        "        print(\"Generic instrument sound\")\n",
        "\n",
        "class Guitar(Instrument):\n",
        "    def play(self):\n",
        "        print(\"Strumming the guitar\")\n",
        "\n",
        "class Piano(Instrument):\n",
        "    def play(self):\n",
        "        print(\"Playing the piano keys\")\n",
        "\n",
        "def play_instrument(instrument):\n",
        "    instrument.play()\n",
        "\n",
        "instrument1 = Instrument()\n",
        "guitar = Guitar()\n",
        "piano = Piano()\n",
        "\n",
        "play_instrument(instrument1)\n",
        "play_instrument(guitar)\n",
        "play_instrument(piano)\n",
        "\n",
        "print(\"\\n\" + \"-\"*30 + \"\\n\")"
      ],
      "metadata": {
        "colab": {
          "base_uri": "https://localhost:8080/"
        },
        "id": "UoEmqn8wZ2XI",
        "outputId": "a55e92b3-39bd-4ec2-8ee5-c0061d773fd7"
      },
      "execution_count": 7,
      "outputs": [
        {
          "output_type": "stream",
          "name": "stdout",
          "text": [
            "Generic instrument sound\n",
            "Strumming the guitar\n",
            "Playing the piano keys\n",
            "\n",
            "------------------------------\n",
            "\n"
          ]
        }
      ]
    },
    {
      "cell_type": "code",
      "source": [
        "\"\"\" 7. Create a class MathOperations with a class method add_numbers() to add two numbers and a static\n",
        "method subtract_numbers() to subtract two numbers.\"\"\"\n",
        "\n",
        "class MathOperations:\n",
        "    @classmethod\n",
        "    def add_numbers(cls, x, y):\n",
        "        return x + y\n",
        "\n",
        "    @staticmethod\n",
        "    def subtract_numbers(x, y):\n",
        "        return x - y\n",
        "\n",
        "print(f\"Sum: {MathOperations.add_numbers(5, 3)}\")\n",
        "print(f\"Difference: {MathOperations.subtract_numbers(10, 4)}\")\n",
        "\n",
        "print(\"\\n\" + \"-\"*30 + \"\\n\")"
      ],
      "metadata": {
        "colab": {
          "base_uri": "https://localhost:8080/"
        },
        "id": "UH-BMa36aB6k",
        "outputId": "a3127dcc-a0f8-4a9c-d122-aaa8ceca0e90"
      },
      "execution_count": 8,
      "outputs": [
        {
          "output_type": "stream",
          "name": "stdout",
          "text": [
            "Sum: 8\n",
            "Difference: 6\n",
            "\n",
            "------------------------------\n",
            "\n"
          ]
        }
      ]
    },
    {
      "cell_type": "code",
      "source": [
        "# 8. Implement a class Person with a class method to count the total number of persons created.\n",
        "\n",
        "class Person:\n",
        "    count = 0\n",
        "\n",
        "    def __init__(self, name):\n",
        "        self.name = name\n",
        "        Person.count += 1\n",
        "\n",
        "    @classmethod\n",
        "    def get_count(cls):\n",
        "        return cls.count\n",
        "\n",
        "person1 = Person(\"Alice\")\n",
        "person2 = Person(\"Bob\")\n",
        "person3 = Person(\"Charlie\")\n",
        "\n",
        "print(f\"Total persons created: {Person.get_count()}\")\n",
        "print(\"\\n\" + \"-\"*30 + \"\\n\")"
      ],
      "metadata": {
        "colab": {
          "base_uri": "https://localhost:8080/"
        },
        "id": "gtCjo-L_aOrT",
        "outputId": "b06716bc-4c61-4128-e944-6d16e684fd3a"
      },
      "execution_count": 10,
      "outputs": [
        {
          "output_type": "stream",
          "name": "stdout",
          "text": [
            "Total persons created: 3\n",
            "\n",
            "------------------------------\n",
            "\n"
          ]
        }
      ]
    },
    {
      "cell_type": "code",
      "source": [
        "\"\"\" 9. Write a class Fraction with attributes numerator and denominator. Override the str method to display the\n",
        "fraction as \"numerator/denominator\".\"\"\"\n",
        "\n",
        "class Fraction:\n",
        "    def __init__(self, numerator, denominator):\n",
        "        self.numerator = numerator\n",
        "        self.denominator = denominator\n",
        "\n",
        "    def __str__(self):\n",
        "        return f\"{self.numerator}/{self.denominator}\"\n",
        "\n",
        "fraction = Fraction(3, 4)\n",
        "print(fraction)\n",
        "\n",
        "print(\"\\n\" + \"-\"*30 + \"\\n\")"
      ],
      "metadata": {
        "colab": {
          "base_uri": "https://localhost:8080/"
        },
        "id": "sOGjO5x5aqgD",
        "outputId": "256b878f-9a2b-46b7-cb97-78d2b58cbf4f"
      },
      "execution_count": 12,
      "outputs": [
        {
          "output_type": "stream",
          "name": "stdout",
          "text": [
            "3/4\n",
            "\n",
            "------------------------------\n",
            "\n"
          ]
        }
      ]
    },
    {
      "cell_type": "code",
      "source": [
        "# 10.Demonstrate operator overloading by creating a class Vector and overriding the add method to add two vectors.\n",
        "\n",
        "class Vector:\n",
        "    def __init__(self, x, y):\n",
        "        self.x = x\n",
        "        self.y = y\n",
        "\n",
        "    def __add__(self, other):\n",
        "        if isinstance(other, Vector):\n",
        "            return Vector(self.x + other.x, self.y + other.y)\n",
        "        else:\n",
        "            raise TypeError(\"Can only add Vector objects\")\n",
        "\n",
        "    def __str__(self):\n",
        "        return f\"({self.x}, {self.y})\"\n",
        "\n",
        "v1 = Vector(2, 3)\n",
        "v2 = Vector(4, 1)\n",
        "v3 = v1 + v2\n",
        "print(f\"Vector 1: {v1}\")\n",
        "print(f\"Vector 2: {v2}\")\n",
        "print(f\"Vector 1 + Vector 2: {v3}\")\n",
        "\n",
        "# Trying to add a non-Vector object will raise a TypeError\n",
        "# v4 = v1 + 5\n",
        "\n",
        "print(\"\\n\" + \"-\"*30 + \"\\n\")"
      ],
      "metadata": {
        "colab": {
          "base_uri": "https://localhost:8080/"
        },
        "id": "JbVDzC3ta_R7",
        "outputId": "7c8e35a5-cc7d-4b00-efe8-1fab34575d7d"
      },
      "execution_count": 17,
      "outputs": [
        {
          "output_type": "stream",
          "name": "stdout",
          "text": [
            "Vector 1: (2, 3)\n",
            "Vector 2: (4, 1)\n",
            "Vector 1 + Vector 2: (6, 4)\n",
            "\n",
            "------------------------------\n",
            "\n"
          ]
        }
      ]
    },
    {
      "cell_type": "code",
      "source": [
        "\"\"\"11.Create a class Person with attributes name and age. Add a method greet() that prints \"Hello, my name is\n",
        "{name} and I am {age} years old.\"\"\"\n",
        "\n",
        "class Person:\n",
        "    def __init__(self, name, age):\n",
        "        self.name = name\n",
        "        self.age = age\n",
        "    def greet(self):\n",
        "        print(f\"Hello, my name is {self.name} and I am {self.age} years old.\")\n",
        "\n",
        "person = Person(\"Vishal Tygai\", 20)\n",
        "person.greet()"
      ],
      "metadata": {
        "colab": {
          "base_uri": "https://localhost:8080/"
        },
        "id": "Cxlcd0pKbjbj",
        "outputId": "beb9850d-99d7-4473-b52a-d0879eab9eb5"
      },
      "execution_count": 22,
      "outputs": [
        {
          "output_type": "stream",
          "name": "stdout",
          "text": [
            "Hello, my name is Vishal Tygai and I am 20 years old.\n"
          ]
        }
      ]
    },
    {
      "cell_type": "code",
      "source": [
        "\"\"\" 12. Implement a class Student with attributes name and grades. Create a method average_grade() to compute\n",
        "the average of the grades\"\"\"\n",
        "\n",
        "\n",
        "class Student:\n",
        "    def __init__(self, name, grades):\n",
        "        self.name = name\n",
        "        self.grades = grades\n",
        "\n",
        "    def average_grade(self):\n",
        "        if self.grades:\n",
        "            return sum(self.grades) / len(self.grades)\n",
        "        else:\n",
        "            return 0\n",
        "\n",
        "student1 = Student(\"vishal\", [85, 90, 78, 92])\n",
        "average = student1.average_grade()\n",
        "print(f\"{student1.name}'s average grade: {average}\")\n",
        "\n",
        "student2 = Student(\"Rahul\", [55, 65, 68, 66])\n",
        "average2 = student2.average_grade()\n",
        "print(f\"{student2.name}'s average grade: {average2}\")\n",
        "\n",
        "print(\"\\n\" + \"-\"*30 + \"\\n\")"
      ],
      "metadata": {
        "colab": {
          "base_uri": "https://localhost:8080/"
        },
        "id": "aBzxCNrKc3fs",
        "outputId": "4638fdb4-1ba2-49b6-b09f-b73c07aa3cac"
      },
      "execution_count": 25,
      "outputs": [
        {
          "output_type": "stream",
          "name": "stdout",
          "text": [
            "vishal's average grade: 86.25\n",
            "Rahul's average grade: 63.5\n",
            "\n",
            "------------------------------\n",
            "\n"
          ]
        }
      ]
    },
    {
      "cell_type": "code",
      "source": [
        "# 13.Create a class Rectangle with methods set_dimensions() to set the dimensions and area() to calculate the area.\n",
        "\n",
        "class Rectangle:\n",
        "    def __init__(self):\n",
        "        self.length = 0\n",
        "        self.width = 0\n",
        "\n",
        "    def set_dimensions(self, length, width):\n",
        "        self.length = length\n",
        "        self.width = width\n",
        "\n",
        "    def area(self):\n",
        "        return self.length * self.width\n",
        "\n",
        "rectangle = Rectangle()\n",
        "rectangle.set_dimensions(10, 5)\n",
        "print(f\"Area of the rectangle: {rectangle.area()}\")\n",
        "\n",
        "print(\"\\n\" + \"-\"*30 + \"\\n\")"
      ],
      "metadata": {
        "colab": {
          "base_uri": "https://localhost:8080/"
        },
        "id": "638dEUnudjFz",
        "outputId": "54de486d-9335-42f4-8476-1160d2839b7e"
      },
      "execution_count": 28,
      "outputs": [
        {
          "output_type": "stream",
          "name": "stdout",
          "text": [
            "Area of the rectangle: 50\n",
            "\n",
            "------------------------------\n",
            "\n"
          ]
        }
      ]
    },
    {
      "cell_type": "code",
      "source": [
        "\"\"\" 14. Create a class Employee with a method calculate_salary() that computes the salary based on hours worked\n",
        "and hourly rate. Create a derived class Manager that adds a bonus to the salary.\"\"\"\n",
        "\n",
        "class Employee:\n",
        "    def __init__(self, name, hours_worked, hourly_rate):\n",
        "        self.name = name\n",
        "        self.hours_worked = hours_worked\n",
        "        self.hourly_rate = hourly_rate\n",
        "\n",
        "    def calculate_salary(self):\n",
        "        return self.hours_worked * self.hourly_rate\n",
        "\n",
        "class Manager(Employee):\n",
        "    def __init__(self, name, hours_worked, hourly_rate, bonus):\n",
        "        super().__init__(name, hours_worked, hourly_rate)\n",
        "        self.bonus = bonus\n",
        "\n",
        "    def calculate_salary(self):\n",
        "        base_salary = super().calculate_salary()\n",
        "        return base_salary + self.bonus\n",
        "\n",
        "employee = Employee(\"Raman\", 40, 25)\n",
        "print(f\"{employee.name}'s salary: ${employee.calculate_salary()}\")\n",
        "\n",
        "manager = Manager(\"Raj\", 45, 30, 500)\n",
        "print(f\"{manager.name}'s salary: ${manager.calculate_salary()}\")\n",
        "\n",
        "print(\"\\n\" + \"-\"*30 + \"\\n\")"
      ],
      "metadata": {
        "colab": {
          "base_uri": "https://localhost:8080/"
        },
        "id": "dOQDCOnLeMLM",
        "outputId": "a1ea0032-256e-496b-f546-2cf37370d593"
      },
      "execution_count": 30,
      "outputs": [
        {
          "output_type": "stream",
          "name": "stdout",
          "text": [
            "Raman's salary: $1000\n",
            "Raj's salary: $1850\n",
            "\n",
            "------------------------------\n",
            "\n"
          ]
        }
      ]
    },
    {
      "cell_type": "code",
      "source": [
        "\"\"\" 15. Create a class Product with attributes name, price, and quantity. Implement a method total_price() that\n",
        "calculates the total price of the product.\"\"\"\n",
        "\n",
        "class Product:\n",
        "    def __init__(self, name, price, quantity):\n",
        "        self.name = name\n",
        "        self.price = price\n",
        "        self.quantity = quantity\n",
        "\n",
        "    def total_price(self):\n",
        "        return self.price * self.quantity\n",
        "\n",
        "product1 = Product(\"Laptop\", 1200, 2)\n",
        "total = product1.total_price()\n",
        "print(f\"Total price for {product1.name}: ${total}\")\n",
        "\n",
        "product2 = Product(\"Mouse\", 25, 5)\n",
        "total2 = product2.total_price()\n",
        "print(f\"Total price for {product2.name}: ${total2}\")\n",
        "\n",
        "print(\"\\n\" + \"-\"*30 + \"\\n\")"
      ],
      "metadata": {
        "colab": {
          "base_uri": "https://localhost:8080/"
        },
        "id": "8I2O1Sk1eoNt",
        "outputId": "e924aeff-a9a5-403f-95a0-7a2e0a1ac2f3"
      },
      "execution_count": 31,
      "outputs": [
        {
          "output_type": "stream",
          "name": "stdout",
          "text": [
            "Total price for Laptop: $2400\n",
            "Total price for Mouse: $125\n",
            "\n",
            "------------------------------\n",
            "\n"
          ]
        }
      ]
    },
    {
      "cell_type": "code",
      "source": [
        "\"\"\" 16. Create a class Animal with an abstract method sound(). Create two derived classes Cow and Sheep that\n",
        "implement the sound() method.\"\"\"\n",
        "\n",
        "from abc import ABC, abstractmethod\n",
        "\n",
        "class Animal(ABC):\n",
        "    @abstractmethod\n",
        "    def sound(self):\n",
        "        pass\n",
        "\n",
        "class Cow(Animal):\n",
        "    def sound(self):\n",
        "        print(\"Moo!\")\n",
        "\n",
        "class Sheep(Animal):\n",
        "    def sound(self):\n",
        "        print(\"Baa!\")\n",
        "\n",
        "# animal = Animal() # Cannot instantiate abstract class\n",
        "\n",
        "cow = Cow()\n",
        "sheep = Sheep()\n",
        "\n",
        "cow.sound()\n",
        "sheep.sound()\n",
        "\n",
        "print(\"\\n\" + \"-\"*30 + \"\\n\")"
      ],
      "metadata": {
        "colab": {
          "base_uri": "https://localhost:8080/"
        },
        "id": "l88bkbIDfEHI",
        "outputId": "6734f281-5ca8-48d3-b936-e7577762e331"
      },
      "execution_count": 34,
      "outputs": [
        {
          "output_type": "stream",
          "name": "stdout",
          "text": [
            "Moo!\n",
            "Baa!\n",
            "\n",
            "------------------------------\n",
            "\n"
          ]
        }
      ]
    },
    {
      "cell_type": "code",
      "source": [
        "\"\"\" 17. Create a class Book with attributes title, author, and year_published. Add a method get_book_info() that\n",
        "returns a formatted string with the book's details.\"\"\"\n",
        "\n",
        "class Book:\n",
        "    def __init__(self, title, author, year_published):\n",
        "        self.title = title\n",
        "        self.author = author\n",
        "        self.year_published = year_published\n",
        "\n",
        "    def get_book_info(self):\n",
        "        return f\"Title: {self.title}, Author: {self.author}, Year Published: {self.year_published}\"\n",
        "\n",
        "book = Book(\"Programming in ANSI C || 9th Edition \", \"F. Balagurusamy\", 2024)\n",
        "print(book.get_book_info())\n",
        "\n",
        "print(\"\\n\" + \"-\"*30 + \"\\n\")"
      ],
      "metadata": {
        "colab": {
          "base_uri": "https://localhost:8080/"
        },
        "id": "XPLLOhSxfv2S",
        "outputId": "b7355b5b-748b-4263-f600-3db779ca65b2"
      },
      "execution_count": 38,
      "outputs": [
        {
          "output_type": "stream",
          "name": "stdout",
          "text": [
            "Title: Programming in ANSI C || 9th Edition , Author: F. Balagurusamy, Year Published: 2024\n",
            "\n",
            "------------------------------\n",
            "\n"
          ]
        }
      ]
    },
    {
      "cell_type": "code",
      "source": [
        "\"\"\" 18. Create a class House with attributes address and price. Create a derived class Mansion that adds an\n",
        "attribute number_of_rooms.\"\"\"\n",
        "\n",
        "class House:\n",
        "    def __init__(self, address, price):\n",
        "        self.address = address\n",
        "        self.price = price\n",
        "\n",
        "    def display_info(self):\n",
        "        print(f\"Address: {self.address}, Price: ${self.price}\")\n",
        "\n",
        "class Mansion(House):\n",
        "    def __init__(self, address, price, number_of_rooms):\n",
        "        super().__init__(address, price)\n",
        "        self.number_of_rooms = number_of_rooms\n",
        "\n",
        "    def display_info(self):\n",
        "        super().display_info()\n",
        "        print(f\"Number of rooms: {self.number_of_rooms}\")\n",
        "\n",
        "house = House(\"123 Main St\", 250000)\n",
        "house.display_info()\n",
        "\n",
        "mansion = Mansion(\"456 Luxury Ln\", 1500000, 20)\n",
        "mansion.display_info()"
      ],
      "metadata": {
        "colab": {
          "base_uri": "https://localhost:8080/"
        },
        "id": "MoA-3GHTgJeK",
        "outputId": "5049d2db-5705-4fae-f28e-04003190ac00"
      },
      "execution_count": 39,
      "outputs": [
        {
          "output_type": "stream",
          "name": "stdout",
          "text": [
            "Address: 123 Main St, Price: $250000\n",
            "Address: 456 Luxury Ln, Price: $1500000\n",
            "Number of rooms: 20\n"
          ]
        }
      ]
    },
    {
      "cell_type": "code",
      "source": [],
      "metadata": {
        "id": "L2JggrgXg8KK"
      },
      "execution_count": 39,
      "outputs": []
    }
  ]
}